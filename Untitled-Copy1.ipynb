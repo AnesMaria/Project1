{
 "cells": [
  {
   "cell_type": "markdown",
   "metadata": {},
   "source": [
    "# A Look at the Data\n"
   ]
  },
  {
   "cell_type": "code",
   "execution_count": 294,
   "metadata": {},
   "outputs": [],
   "source": [
    "# Required packages \n",
    "import numpy as np\n",
    "import pandas as pd\n",
    "import matplotlib.pyplot as plt\n",
    "from IPython import display\n",
    "from sklearn.linear_model import LinearRegression\n",
    "from sklearn.model_selection import train_test_split\n",
    "from sklearn.metrics import r2_score, mean_squared_error\n",
    "from sklearn.model_selection import train_test_split\n",
    "import seaborn as sns\n",
    "from sklearn.preprocessing import LabelEncoder\n",
    "%matplotlib inline\n",
    "\n"
   ]
  },
  {
   "cell_type": "code",
   "execution_count": 295,
   "metadata": {},
   "outputs": [
    {
     "data": {
      "text/html": [
       "<div>\n",
       "<style scoped>\n",
       "    .dataframe tbody tr th:only-of-type {\n",
       "        vertical-align: middle;\n",
       "    }\n",
       "\n",
       "    .dataframe tbody tr th {\n",
       "        vertical-align: top;\n",
       "    }\n",
       "\n",
       "    .dataframe thead th {\n",
       "        text-align: right;\n",
       "    }\n",
       "</style>\n",
       "<table border=\"1\" class=\"dataframe\">\n",
       "  <thead>\n",
       "    <tr style=\"text-align: right;\">\n",
       "      <th></th>\n",
       "      <th>id</th>\n",
       "      <th>name</th>\n",
       "      <th>host_id</th>\n",
       "      <th>host_name</th>\n",
       "      <th>neighbourhood_group</th>\n",
       "      <th>neighbourhood</th>\n",
       "      <th>latitude</th>\n",
       "      <th>longitude</th>\n",
       "      <th>room_type</th>\n",
       "      <th>price</th>\n",
       "      <th>minimum_nights</th>\n",
       "      <th>number_of_reviews</th>\n",
       "      <th>last_review</th>\n",
       "      <th>reviews_per_month</th>\n",
       "      <th>calculated_host_listings_count</th>\n",
       "      <th>availability_365</th>\n",
       "      <th>number_of_reviews_ltm</th>\n",
       "      <th>license;</th>\n",
       "    </tr>\n",
       "  </thead>\n",
       "  <tbody>\n",
       "    <tr>\n",
       "      <th>0</th>\n",
       "      <td>1419</td>\n",
       "      <td>Home in Toronto · ★5.0 · 5 bedrooms · 7 beds ·...</td>\n",
       "      <td>1565.0</td>\n",
       "      <td>Alexandra</td>\n",
       "      <td>NaN</td>\n",
       "      <td>Little Portugal</td>\n",
       "      <td>43.64590</td>\n",
       "      <td>-79.42423</td>\n",
       "      <td>Entire home/apt</td>\n",
       "      <td>469.0</td>\n",
       "      <td>28.0</td>\n",
       "      <td>7.0</td>\n",
       "      <td>2017-12-04</td>\n",
       "      <td>0.07</td>\n",
       "      <td>1.0</td>\n",
       "      <td>0.0</td>\n",
       "      <td>0.0</td>\n",
       "      <td>;</td>\n",
       "    </tr>\n",
       "    <tr>\n",
       "      <th>1</th>\n",
       "      <td>8077</td>\n",
       "      <td>Rental unit in Toronto · ★4.84 · 1 bedroom · 1...</td>\n",
       "      <td>22795.0</td>\n",
       "      <td>Kathie &amp; Larry</td>\n",
       "      <td>NaN</td>\n",
       "      <td>Waterfront Communities-The Island</td>\n",
       "      <td>43.64080</td>\n",
       "      <td>-79.37673</td>\n",
       "      <td>Private room</td>\n",
       "      <td>99.0</td>\n",
       "      <td>180.0</td>\n",
       "      <td>169.0</td>\n",
       "      <td>2013-08-27</td>\n",
       "      <td>1.00</td>\n",
       "      <td>2.0</td>\n",
       "      <td>0.0</td>\n",
       "      <td>0.0</td>\n",
       "      <td>;</td>\n",
       "    </tr>\n",
       "    <tr>\n",
       "      <th>2</th>\n",
       "      <td>26654</td>\n",
       "      <td>Condo in Toronto · ★4.78 · 1 bedroom · 2 beds ...</td>\n",
       "      <td>113345.0</td>\n",
       "      <td>Adela</td>\n",
       "      <td>NaN</td>\n",
       "      <td>Waterfront Communities-The Island</td>\n",
       "      <td>43.64608</td>\n",
       "      <td>-79.39032</td>\n",
       "      <td>Entire home/apt</td>\n",
       "      <td>145.0</td>\n",
       "      <td>28.0</td>\n",
       "      <td>41.0</td>\n",
       "      <td>2021-01-31</td>\n",
       "      <td>0.27</td>\n",
       "      <td>4.0</td>\n",
       "      <td>339.0</td>\n",
       "      <td>0.0</td>\n",
       "      <td>;</td>\n",
       "    </tr>\n",
       "    <tr>\n",
       "      <th>3</th>\n",
       "      <td>27423</td>\n",
       "      <td>Rental unit in Toronto · ★4.92 · Studio · 1 be...</td>\n",
       "      <td>118124.0</td>\n",
       "      <td>Brent</td>\n",
       "      <td>NaN</td>\n",
       "      <td>South Riverdale</td>\n",
       "      <td>43.66884</td>\n",
       "      <td>-79.32725</td>\n",
       "      <td>Entire home/apt</td>\n",
       "      <td>45.0</td>\n",
       "      <td>90.0</td>\n",
       "      <td>27.0</td>\n",
       "      <td>2022-12-25</td>\n",
       "      <td>0.17</td>\n",
       "      <td>1.0</td>\n",
       "      <td>150.0</td>\n",
       "      <td>1.0</td>\n",
       "      <td>;</td>\n",
       "    </tr>\n",
       "    <tr>\n",
       "      <th>4</th>\n",
       "      <td>30931</td>\n",
       "      <td>Rental unit in Toronto · 1 bedroom · 2 beds · ...</td>\n",
       "      <td>22795.0</td>\n",
       "      <td>Kathie &amp; Larry</td>\n",
       "      <td>NaN</td>\n",
       "      <td>Waterfront Communities-The Island</td>\n",
       "      <td>43.64015</td>\n",
       "      <td>-79.37625</td>\n",
       "      <td>Entire home/apt</td>\n",
       "      <td>133.0</td>\n",
       "      <td>180.0</td>\n",
       "      <td>1.0</td>\n",
       "      <td>2010-08-11</td>\n",
       "      <td>0.01</td>\n",
       "      <td>2.0</td>\n",
       "      <td>0.0</td>\n",
       "      <td>0.0</td>\n",
       "      <td>;</td>\n",
       "    </tr>\n",
       "  </tbody>\n",
       "</table>\n",
       "</div>"
      ],
      "text/plain": [
       "      id                                               name   host_id  \\\n",
       "0   1419  Home in Toronto · ★5.0 · 5 bedrooms · 7 beds ·...    1565.0   \n",
       "1   8077  Rental unit in Toronto · ★4.84 · 1 bedroom · 1...   22795.0   \n",
       "2  26654  Condo in Toronto · ★4.78 · 1 bedroom · 2 beds ...  113345.0   \n",
       "3  27423  Rental unit in Toronto · ★4.92 · Studio · 1 be...  118124.0   \n",
       "4  30931  Rental unit in Toronto · 1 bedroom · 2 beds · ...   22795.0   \n",
       "\n",
       "        host_name  neighbourhood_group                      neighbourhood  \\\n",
       "0       Alexandra                  NaN                    Little Portugal   \n",
       "1  Kathie & Larry                  NaN  Waterfront Communities-The Island   \n",
       "2           Adela                  NaN  Waterfront Communities-The Island   \n",
       "3           Brent                  NaN                    South Riverdale   \n",
       "4  Kathie & Larry                  NaN  Waterfront Communities-The Island   \n",
       "\n",
       "   latitude  longitude        room_type  price  minimum_nights  \\\n",
       "0  43.64590  -79.42423  Entire home/apt  469.0            28.0   \n",
       "1  43.64080  -79.37673     Private room   99.0           180.0   \n",
       "2  43.64608  -79.39032  Entire home/apt  145.0            28.0   \n",
       "3  43.66884  -79.32725  Entire home/apt   45.0            90.0   \n",
       "4  43.64015  -79.37625  Entire home/apt  133.0           180.0   \n",
       "\n",
       "   number_of_reviews last_review  reviews_per_month  \\\n",
       "0                7.0  2017-12-04               0.07   \n",
       "1              169.0  2013-08-27               1.00   \n",
       "2               41.0  2021-01-31               0.27   \n",
       "3               27.0  2022-12-25               0.17   \n",
       "4                1.0  2010-08-11               0.01   \n",
       "\n",
       "   calculated_host_listings_count  availability_365  number_of_reviews_ltm  \\\n",
       "0                             1.0               0.0                    0.0   \n",
       "1                             2.0               0.0                    0.0   \n",
       "2                             4.0             339.0                    0.0   \n",
       "3                             1.0             150.0                    1.0   \n",
       "4                             2.0               0.0                    0.0   \n",
       "\n",
       "  license;  \n",
       "0        ;  \n",
       "1        ;  \n",
       "2        ;  \n",
       "3        ;  \n",
       "4        ;  "
      ]
     },
     "execution_count": 295,
     "metadata": {},
     "output_type": "execute_result"
    }
   ],
   "source": [
    "df = pd.read_csv('./listings.csv')\n",
    "df.head()"
   ]
  },
  {
   "cell_type": "code",
   "execution_count": 296,
   "metadata": {},
   "outputs": [
    {
     "data": {
      "text/html": [
       "<div>\n",
       "<style scoped>\n",
       "    .dataframe tbody tr th:only-of-type {\n",
       "        vertical-align: middle;\n",
       "    }\n",
       "\n",
       "    .dataframe tbody tr th {\n",
       "        vertical-align: top;\n",
       "    }\n",
       "\n",
       "    .dataframe thead th {\n",
       "        text-align: right;\n",
       "    }\n",
       "</style>\n",
       "<table border=\"1\" class=\"dataframe\">\n",
       "  <thead>\n",
       "    <tr style=\"text-align: right;\">\n",
       "      <th></th>\n",
       "      <th>host_id</th>\n",
       "      <th>neighbourhood_group</th>\n",
       "      <th>latitude</th>\n",
       "      <th>longitude</th>\n",
       "      <th>price</th>\n",
       "      <th>minimum_nights</th>\n",
       "      <th>number_of_reviews</th>\n",
       "      <th>reviews_per_month</th>\n",
       "      <th>calculated_host_listings_count</th>\n",
       "      <th>availability_365</th>\n",
       "      <th>number_of_reviews_ltm</th>\n",
       "    </tr>\n",
       "  </thead>\n",
       "  <tbody>\n",
       "    <tr>\n",
       "      <th>count</th>\n",
       "      <td>2.500900e+04</td>\n",
       "      <td>0.0</td>\n",
       "      <td>25009.000000</td>\n",
       "      <td>25009.000000</td>\n",
       "      <td>25009.000000</td>\n",
       "      <td>25009.000000</td>\n",
       "      <td>25009.000000</td>\n",
       "      <td>13909.000000</td>\n",
       "      <td>25009.000000</td>\n",
       "      <td>25009.000000</td>\n",
       "      <td>25009.000000</td>\n",
       "    </tr>\n",
       "    <tr>\n",
       "      <th>mean</th>\n",
       "      <td>2.628632e+08</td>\n",
       "      <td>NaN</td>\n",
       "      <td>43.680783</td>\n",
       "      <td>-79.396907</td>\n",
       "      <td>189.596145</td>\n",
       "      <td>27.269183</td>\n",
       "      <td>18.387021</td>\n",
       "      <td>1.397849</td>\n",
       "      <td>86.455356</td>\n",
       "      <td>195.368627</td>\n",
       "      <td>5.138190</td>\n",
       "    </tr>\n",
       "    <tr>\n",
       "      <th>std</th>\n",
       "      <td>2.038893e+08</td>\n",
       "      <td>NaN</td>\n",
       "      <td>0.047125</td>\n",
       "      <td>0.065626</td>\n",
       "      <td>705.699090</td>\n",
       "      <td>34.300901</td>\n",
       "      <td>47.229631</td>\n",
       "      <td>1.805434</td>\n",
       "      <td>163.655839</td>\n",
       "      <td>141.570623</td>\n",
       "      <td>12.622998</td>\n",
       "    </tr>\n",
       "    <tr>\n",
       "      <th>min</th>\n",
       "      <td>1.565000e+03</td>\n",
       "      <td>NaN</td>\n",
       "      <td>43.585750</td>\n",
       "      <td>-79.623950</td>\n",
       "      <td>0.000000</td>\n",
       "      <td>1.000000</td>\n",
       "      <td>0.000000</td>\n",
       "      <td>0.010000</td>\n",
       "      <td>1.000000</td>\n",
       "      <td>0.000000</td>\n",
       "      <td>0.000000</td>\n",
       "    </tr>\n",
       "    <tr>\n",
       "      <th>25%</th>\n",
       "      <td>4.964137e+07</td>\n",
       "      <td>NaN</td>\n",
       "      <td>43.650810</td>\n",
       "      <td>-79.424300</td>\n",
       "      <td>84.000000</td>\n",
       "      <td>28.000000</td>\n",
       "      <td>0.000000</td>\n",
       "      <td>0.200000</td>\n",
       "      <td>1.000000</td>\n",
       "      <td>48.000000</td>\n",
       "      <td>0.000000</td>\n",
       "    </tr>\n",
       "    <tr>\n",
       "      <th>50%</th>\n",
       "      <td>2.421469e+08</td>\n",
       "      <td>NaN</td>\n",
       "      <td>43.660130</td>\n",
       "      <td>-79.401070</td>\n",
       "      <td>120.000000</td>\n",
       "      <td>28.000000</td>\n",
       "      <td>1.000000</td>\n",
       "      <td>0.640000</td>\n",
       "      <td>3.000000</td>\n",
       "      <td>217.000000</td>\n",
       "      <td>0.000000</td>\n",
       "    </tr>\n",
       "    <tr>\n",
       "      <th>75%</th>\n",
       "      <td>4.988002e+08</td>\n",
       "      <td>NaN</td>\n",
       "      <td>43.700960</td>\n",
       "      <td>-79.376370</td>\n",
       "      <td>199.000000</td>\n",
       "      <td>33.000000</td>\n",
       "      <td>14.000000</td>\n",
       "      <td>1.980000</td>\n",
       "      <td>77.000000</td>\n",
       "      <td>336.000000</td>\n",
       "      <td>3.000000</td>\n",
       "    </tr>\n",
       "    <tr>\n",
       "      <th>max</th>\n",
       "      <td>5.235944e+08</td>\n",
       "      <td>NaN</td>\n",
       "      <td>43.839986</td>\n",
       "      <td>-79.128010</td>\n",
       "      <td>98133.000000</td>\n",
       "      <td>1125.000000</td>\n",
       "      <td>948.000000</td>\n",
       "      <td>15.640000</td>\n",
       "      <td>603.000000</td>\n",
       "      <td>365.000000</td>\n",
       "      <td>171.000000</td>\n",
       "    </tr>\n",
       "  </tbody>\n",
       "</table>\n",
       "</div>"
      ],
      "text/plain": [
       "            host_id  neighbourhood_group      latitude     longitude  \\\n",
       "count  2.500900e+04                  0.0  25009.000000  25009.000000   \n",
       "mean   2.628632e+08                  NaN     43.680783    -79.396907   \n",
       "std    2.038893e+08                  NaN      0.047125      0.065626   \n",
       "min    1.565000e+03                  NaN     43.585750    -79.623950   \n",
       "25%    4.964137e+07                  NaN     43.650810    -79.424300   \n",
       "50%    2.421469e+08                  NaN     43.660130    -79.401070   \n",
       "75%    4.988002e+08                  NaN     43.700960    -79.376370   \n",
       "max    5.235944e+08                  NaN     43.839986    -79.128010   \n",
       "\n",
       "              price  minimum_nights  number_of_reviews  reviews_per_month  \\\n",
       "count  25009.000000    25009.000000       25009.000000       13909.000000   \n",
       "mean     189.596145       27.269183          18.387021           1.397849   \n",
       "std      705.699090       34.300901          47.229631           1.805434   \n",
       "min        0.000000        1.000000           0.000000           0.010000   \n",
       "25%       84.000000       28.000000           0.000000           0.200000   \n",
       "50%      120.000000       28.000000           1.000000           0.640000   \n",
       "75%      199.000000       33.000000          14.000000           1.980000   \n",
       "max    98133.000000     1125.000000         948.000000          15.640000   \n",
       "\n",
       "       calculated_host_listings_count  availability_365  number_of_reviews_ltm  \n",
       "count                    25009.000000      25009.000000           25009.000000  \n",
       "mean                        86.455356        195.368627               5.138190  \n",
       "std                        163.655839        141.570623              12.622998  \n",
       "min                          1.000000          0.000000               0.000000  \n",
       "25%                          1.000000         48.000000               0.000000  \n",
       "50%                          3.000000        217.000000               0.000000  \n",
       "75%                         77.000000        336.000000               3.000000  \n",
       "max                        603.000000        365.000000             171.000000  "
      ]
     },
     "execution_count": 296,
     "metadata": {},
     "output_type": "execute_result"
    }
   ],
   "source": [
    "df.describe()"
   ]
  },
  {
   "cell_type": "code",
   "execution_count": 297,
   "metadata": {},
   "outputs": [
    {
     "data": {
      "text/plain": [
       "<bound method DataFrame.info of                        id                                               name  \\\n",
       "0                    1419  Home in Toronto · ★5.0 · 5 bedrooms · 7 beds ·...   \n",
       "1                    8077  Rental unit in Toronto · ★4.84 · 1 bedroom · 1...   \n",
       "2                   26654  Condo in Toronto · ★4.78 · 1 bedroom · 2 beds ...   \n",
       "3                   27423  Rental unit in Toronto · ★4.92 · Studio · 1 be...   \n",
       "4                   30931  Rental unit in Toronto · 1 bedroom · 2 beds · ...   \n",
       "...                   ...                                                ...   \n",
       "25013  928338621568229350  Home in Toronto · ★New · 1 bedroom · 1 bed · 1...   \n",
       "25014  928349866753836739  Home in Toronto · ★New · 1 bedroom · 1 bed · 1...   \n",
       "25015  928370511679925818  Home in Toronto · ★New · 1 bedroom · 1 bed · 1...   \n",
       "25016  928371157408834372  Rental unit in Toronto · ★New · 1 bedroom · 2 ...   \n",
       "25017  928399751077610839  Rental unit in Toronto · ★New · Studio · 1 bed...   \n",
       "\n",
       "           host_id       host_name  neighbourhood_group  \\\n",
       "0           1565.0       Alexandra                  NaN   \n",
       "1          22795.0  Kathie & Larry                  NaN   \n",
       "2         113345.0           Adela                  NaN   \n",
       "3         118124.0           Brent                  NaN   \n",
       "4          22795.0  Kathie & Larry                  NaN   \n",
       "...            ...             ...                  ...   \n",
       "25013  507139653.0           Louis                  NaN   \n",
       "25014  157994482.0         Wen Hui                  NaN   \n",
       "25015  507139653.0           Louis                  NaN   \n",
       "25016   48610868.0         Bouchra                  NaN   \n",
       "25017  481454082.0             Fan                  NaN   \n",
       "\n",
       "                           neighbourhood   latitude  longitude  \\\n",
       "0                        Little Portugal  43.645900 -79.424230   \n",
       "1      Waterfront Communities-The Island  43.640800 -79.376730   \n",
       "2      Waterfront Communities-The Island  43.646080 -79.390320   \n",
       "3                        South Riverdale  43.668840 -79.327250   \n",
       "4      Waterfront Communities-The Island  43.640150 -79.376250   \n",
       "...                                  ...        ...        ...   \n",
       "25013                  Parkwoods-Donalda  43.745219 -79.326694   \n",
       "25014                   Newtonbrook West  43.784690 -79.426995   \n",
       "25015                   Wexford/Maryvale  43.738257 -79.296285   \n",
       "25016                     Dufferin Grove  43.654252 -79.438126   \n",
       "25017  Waterfront Communities-The Island  43.642598 -79.379467   \n",
       "\n",
       "             room_type  price  minimum_nights  number_of_reviews last_review  \\\n",
       "0      Entire home/apt  469.0            28.0                7.0  2017-12-04   \n",
       "1         Private room   99.0           180.0              169.0  2013-08-27   \n",
       "2      Entire home/apt  145.0            28.0               41.0  2021-01-31   \n",
       "3      Entire home/apt   45.0            90.0               27.0  2022-12-25   \n",
       "4      Entire home/apt  133.0           180.0                1.0  2010-08-11   \n",
       "...                ...    ...             ...                ...         ...   \n",
       "25013  Entire home/apt  124.0            33.0                0.0         NaN   \n",
       "25014     Private room   80.0             1.0                0.0         NaN   \n",
       "25015  Entire home/apt   98.0            33.0                0.0         NaN   \n",
       "25016  Entire home/apt  120.0            28.0                0.0         NaN   \n",
       "25017  Entire home/apt  211.0            28.0                0.0         NaN   \n",
       "\n",
       "       reviews_per_month  calculated_host_listings_count  availability_365  \\\n",
       "0                   0.07                             1.0               0.0   \n",
       "1                   1.00                             2.0               0.0   \n",
       "2                   0.27                             4.0             339.0   \n",
       "3                   0.17                             1.0             150.0   \n",
       "4                   0.01                             2.0               0.0   \n",
       "...                  ...                             ...               ...   \n",
       "25013                NaN                            19.0             364.0   \n",
       "25014                NaN                             3.0             259.0   \n",
       "25015                NaN                            19.0             365.0   \n",
       "25016                NaN                             2.0             353.0   \n",
       "25017                NaN                            10.0             269.0   \n",
       "\n",
       "       number_of_reviews_ltm          license;  \n",
       "0                        0.0                 ;  \n",
       "1                        0.0                 ;  \n",
       "2                        0.0                 ;  \n",
       "3                        1.0                 ;  \n",
       "4                        0.0                 ;  \n",
       "...                      ...               ...  \n",
       "25013                    0.0                 ;  \n",
       "25014                    0.0  STR-2305-HRMBHX;  \n",
       "25015                    0.0                 ;  \n",
       "25016                    0.0                 ;  \n",
       "25017                    0.0                 ;  \n",
       "\n",
       "[25018 rows x 18 columns]>"
      ]
     },
     "execution_count": 297,
     "metadata": {},
     "output_type": "execute_result"
    }
   ],
   "source": [
    "df.info"
   ]
  },
  {
   "cell_type": "code",
   "execution_count": 298,
   "metadata": {},
   "outputs": [
    {
     "data": {
      "text/plain": [
       "Index(['id', 'name', 'host_id', 'host_name', 'neighbourhood_group',\n",
       "       'neighbourhood', 'latitude', 'longitude', 'room_type', 'price',\n",
       "       'minimum_nights', 'number_of_reviews', 'last_review',\n",
       "       'reviews_per_month', 'calculated_host_listings_count',\n",
       "       'availability_365', 'number_of_reviews_ltm', 'license;'],\n",
       "      dtype='object')"
      ]
     },
     "execution_count": 298,
     "metadata": {},
     "output_type": "execute_result"
    }
   ],
   "source": [
    "col = df.columns\n",
    "col"
   ]
  },
  {
   "cell_type": "code",
   "execution_count": 299,
   "metadata": {},
   "outputs": [],
   "source": [
    "num_rows = df.shape[0] \n",
    "num_cols = df.shape[1]\n",
    "\n"
   ]
  },
  {
   "cell_type": "code",
   "execution_count": 300,
   "metadata": {},
   "outputs": [
    {
     "data": {
      "text/plain": [
       "25018"
      ]
     },
     "execution_count": 300,
     "metadata": {},
     "output_type": "execute_result"
    }
   ],
   "source": [
    "num_rows # rows number"
   ]
  },
  {
   "cell_type": "code",
   "execution_count": 301,
   "metadata": {},
   "outputs": [
    {
     "data": {
      "text/plain": [
       "18"
      ]
     },
     "execution_count": 301,
     "metadata": {},
     "output_type": "execute_result"
    }
   ],
   "source": [
    "num_cols  # columns number"
   ]
  },
  {
   "cell_type": "markdown",
   "metadata": {},
   "source": [
    "# Questions "
   ]
  },
  {
   "cell_type": "code",
   "execution_count": 302,
   "metadata": {},
   "outputs": [],
   "source": [
    "#Defining my questions to understand better the dataset"
   ]
  },
  {
   "cell_type": "markdown",
   "metadata": {},
   "source": [
    "# Question 1"
   ]
  },
  {
   "cell_type": "code",
   "execution_count": 303,
   "metadata": {},
   "outputs": [],
   "source": [
    "# Which host has the highest number of bookings?"
   ]
  },
  {
   "cell_type": "code",
   "execution_count": 304,
   "metadata": {},
   "outputs": [
    {
     "data": {
      "text/plain": [
       "498799994.0    603\n",
       "510826184.0    523\n",
       "274825041.0    507\n",
       "507078335.0    454\n",
       "508288540.0    418\n",
       "              ... \n",
       "158353397.0      1\n",
       "516799.0         1\n",
       "9721803.0        1\n",
       "51469580.0       1\n",
       "15204301.0       1\n",
       "Name: host_id, Length: 12255, dtype: int64"
      ]
     },
     "execution_count": 304,
     "metadata": {},
     "output_type": "execute_result"
    }
   ],
   "source": [
    "df.host_id.value_counts()"
   ]
  },
  {
   "cell_type": "code",
   "execution_count": 305,
   "metadata": {},
   "outputs": [
    {
     "data": {
      "image/png": "[encoded data removed]",
      "text/plain": [
       "<Figure size 864x504 with 1 Axes>"
      ]
     },
     "metadata": {
      "needs_background": "light"
     },
     "output_type": "display_data"
    }
   ],
   "source": [
    "\n",
    "df['estimated_bookings'] = 365 - df['availability_365']\n",
    "\n",
    "# combining host_id with host_name\n",
    "df['host_info'] = df['host_id'].astype(str) + ' - ' + df['host_name']\n",
    "\n",
    "# Group by the obtained result\n",
    "host_bookings = df.groupby('host_info')['estimated_bookings'].sum().reset_index()\n",
    "\n",
    "# Sort the result\n",
    "sorted_hosts = host_bookings.sort_values(by='estimated_bookings', ascending=False)\n",
    "\n",
    "# we show only the first 10\n",
    "top_hosts = sorted_hosts.head(10)\n",
    "\n",
    "# Plotting\n",
    "plt.figure(figsize=(12, 7))\n",
    "plt.barh(top_hosts['host_info'], top_hosts['estimated_bookings'], color='lightblue')\n",
    "plt.xlabel('Estimated Number of Bookings')\n",
    "plt.ylabel('Host ID - Host Name')\n",
    "plt.title('Top 10 Most Booked Hosts (Estimated)')\n",
    "plt.gca().invert_yaxis()  \n",
    "plt.tight_layout()\n",
    "plt.show()"
   ]
  },
  {
   "cell_type": "markdown",
   "metadata": {},
   "source": [
    "# Question 2\n"
   ]
  },
  {
   "cell_type": "code",
   "execution_count": 306,
   "metadata": {},
   "outputs": [],
   "source": [
    "#How do prices differ accross Room_type?"
   ]
  },
  {
   "cell_type": "code",
   "execution_count": 307,
   "metadata": {},
   "outputs": [
    {
     "data": {
      "image/png": "[encoded data removed]",
      "text/plain": [
       "<Figure size 864x432 with 1 Axes>"
      ]
     },
     "metadata": {
      "needs_background": "light"
     },
     "output_type": "display_data"
    }
   ],
   "source": [
    "plt.figure(figsize=(12, 6))\n",
    "sns.boxplot(x='room_type', y='price', data=df)\n",
    "plt.title('Price Distribution Across Room Types')\n",
    "plt.xlabel('Room Type')\n",
    "plt.ylabel('Price')\n",
    "plt.show()"
   ]
  },
  {
   "cell_type": "markdown",
   "metadata": {},
   "source": [
    "# Question 3"
   ]
  },
  {
   "cell_type": "code",
   "execution_count": 308,
   "metadata": {},
   "outputs": [],
   "source": [
    "#Which host_name has received the best reviews?"
   ]
  },
  {
   "cell_type": "code",
   "execution_count": 309,
   "metadata": {},
   "outputs": [
    {
     "data": {
      "image/png": "[encoded data removed]",
      "text/plain": [
       "<Figure size 864x432 with 1 Axes>"
      ]
     },
     "metadata": {
      "needs_background": "light"
     },
     "output_type": "display_data"
    }
   ],
   "source": [
    "\n",
    "# Group by host_id with host_name \n",
    "agg_reviews = df.groupby(['host_id', 'host_name']).agg(\n",
    "    total_reviews=pd.NamedAgg(column='number_of_reviews', aggfunc='sum'),\n",
    "    average_rating=pd.NamedAgg(column='number_of_reviews_ltm', aggfunc='mean') # replace 'review_rating_column' with your actual column name\n",
    ").reset_index()\n",
    "\n",
    "# Sort by \n",
    "agg_reviews = agg_reviews.sort_values(by=['average_rating', 'total_reviews'], ascending=False)\n",
    "\n",
    "# we show only the first 10\n",
    "top_hosts = agg_reviews.head(10)\n",
    "\n",
    "# Visualization\n",
    "top_hosts.plot(x='host_name', y=['average_rating', 'total_reviews'], kind='bar', figsize=(12,6))\n",
    "plt.title(\"Top Reviewed Hosts\")\n",
    "plt.ylabel(\"Rating/Number of Reviews\")\n",
    "plt.show()"
   ]
  },
  {
   "cell_type": "markdown",
   "metadata": {},
   "source": [
    "# DATA preparation"
   ]
  },
  {
   "cell_type": "markdown",
   "metadata": {},
   "source": [
    "# Verifying the Missing values "
   ]
  },
  {
   "cell_type": "code",
   "execution_count": 310,
   "metadata": {},
   "outputs": [
    {
     "name": "stdout",
     "output_type": "stream",
     "text": [
      "id                                    0\n",
      "name                                  9\n",
      "host_id                               9\n",
      "host_name                            11\n",
      "neighbourhood_group               25018\n",
      "neighbourhood                         9\n",
      "latitude                              9\n",
      "longitude                             9\n",
      "room_type                             9\n",
      "price                                 9\n",
      "minimum_nights                        9\n",
      "number_of_reviews                     9\n",
      "last_review                       11109\n",
      "reviews_per_month                 11109\n",
      "calculated_host_listings_count        9\n",
      "availability_365                      9\n",
      "number_of_reviews_ltm                 9\n",
      "license;                             11\n",
      "estimated_bookings                    9\n",
      "host_info                            11\n",
      "dtype: int64\n"
     ]
    }
   ],
   "source": [
    "missing_values = df.isnull().sum()\n",
    "print(missing_values)"
   ]
  },
  {
   "cell_type": "code",
   "execution_count": 311,
   "metadata": {},
   "outputs": [
    {
     "data": {
      "text/plain": [
       "<AxesSubplot:>"
      ]
     },
     "execution_count": 311,
     "metadata": {},
     "output_type": "execute_result"
    },
    {
     "data": {
      "image/png": "[encoded data removed]",
      "text/plain": [
       "<Figure size 432x288 with 1 Axes>"
      ]
     },
     "metadata": {
      "needs_background": "light"
     },
     "output_type": "display_data"
    }
   ],
   "source": [
    "import seaborn as sns\n",
    "sns.heatmap(df.isnull(), cbar=False, cmap='viridis')"
   ]
  },
  {
   "cell_type": "code",
   "execution_count": 312,
   "metadata": {},
   "outputs": [
    {
     "name": "stdout",
     "output_type": "stream",
     "text": [
      "neighbourhood_group               1.00000\n",
      "reviews_per_month                 0.44404\n",
      "last_review                       0.44404\n",
      "host_info                         0.00044\n",
      "license;                          0.00044\n",
      "host_name                         0.00044\n",
      "longitude                         0.00036\n",
      "name                              0.00036\n",
      "host_id                           0.00036\n",
      "neighbourhood                     0.00036\n",
      "latitude                          0.00036\n",
      "price                             0.00036\n",
      "room_type                         0.00036\n",
      "estimated_bookings                0.00036\n",
      "minimum_nights                    0.00036\n",
      "number_of_reviews                 0.00036\n",
      "calculated_host_listings_count    0.00036\n",
      "availability_365                  0.00036\n",
      "number_of_reviews_ltm             0.00036\n",
      "id                                0.00000\n",
      "dtype: float64\n"
     ]
    }
   ],
   "source": [
    "print(df.isna().mean().sort_values(ascending=False).head(35))"
   ]
  },
  {
   "cell_type": "code",
   "execution_count": 313,
   "metadata": {},
   "outputs": [
    {
     "name": "stdout",
     "output_type": "stream",
     "text": [
      "(25018, 19)\n"
     ]
    }
   ],
   "source": [
    "df1 = df.drop(columns=['neighbourhood_group'])\n",
    "print(df1.shape)"
   ]
  },
  {
   "cell_type": "markdown",
   "metadata": {},
   "source": [
    "# Missing values"
   ]
  },
  {
   "cell_type": "code",
   "execution_count": 315,
   "metadata": {},
   "outputs": [
    {
     "data": {
      "text/plain": [
       "Index(['id', 'name', 'host_id', 'host_name', 'neighbourhood', 'latitude',\n",
       "       'longitude', 'room_type', 'price', 'minimum_nights',\n",
       "       'number_of_reviews', 'last_review', 'reviews_per_month',\n",
       "       'calculated_host_listings_count', 'availability_365',\n",
       "       'number_of_reviews_ltm', 'license;', 'estimated_bookings', 'host_info'],\n",
       "      dtype='object')"
      ]
     },
     "execution_count": 315,
     "metadata": {},
     "output_type": "execute_result"
    }
   ],
   "source": [
    "df1.columns"
   ]
  },
  {
   "cell_type": "code",
   "execution_count": 225,
   "metadata": {},
   "outputs": [
    {
     "name": "stdout",
     "output_type": "stream",
     "text": [
      "id                                0\n",
      "name                              0\n",
      "host_id                           0\n",
      "host_name                         0\n",
      "neighbourhood_group               0\n",
      "neighbourhood                     0\n",
      "latitude                          0\n",
      "longitude                         0\n",
      "room_type                         0\n",
      "price                             0\n",
      "minimum_nights                    0\n",
      "number_of_reviews                 0\n",
      "last_review                       0\n",
      "reviews_per_month                 0\n",
      "calculated_host_listings_count    0\n",
      "availability_365                  0\n",
      "number_of_reviews_ltm             0\n",
      "license;                          0\n",
      "estimated_bookings                0\n",
      "host_info                         0\n",
      "dtype: int64\n"
     ]
    }
   ],
   "source": [
    "#missing_values = df.isnull().sum()\n",
    "#print(missing_values)"
   ]
  },
  {
   "cell_type": "markdown",
   "metadata": {},
   "source": [
    "# Calculate the Percentage of Missing Values:\n"
   ]
  },
  {
   "cell_type": "markdown",
   "metadata": {},
   "source": [
    "# Check if Any Rows Have All Missing Values:"
   ]
  },
  {
   "cell_type": "code",
   "execution_count": 227,
   "metadata": {},
   "outputs": [],
   "source": [
    "#all_missing_rows = df[df.isnull().all(axis=1)]\n",
    "#print(all_missing_rows)"
   ]
  },
  {
   "cell_type": "markdown",
   "metadata": {},
   "source": [
    "# Check if Any categorical Columns Have All Missing Values:"
   ]
  },
  {
   "cell_type": "code",
   "execution_count": 228,
   "metadata": {},
   "outputs": [],
   "source": [
    "#all_missing_columns = df.columns[df.isnull().all()]\n",
    "#print(all_missing_columns)"
   ]
  },
  {
   "cell_type": "code",
   "execution_count": 316,
   "metadata": {},
   "outputs": [
    {
     "name": "stdout",
     "output_type": "stream",
     "text": [
      "id                                 object\n",
      "name                               object\n",
      "host_id                           float64\n",
      "host_name                          object\n",
      "neighbourhood                      object\n",
      "latitude                          float64\n",
      "longitude                         float64\n",
      "room_type                          object\n",
      "price                             float64\n",
      "minimum_nights                    float64\n",
      "number_of_reviews                 float64\n",
      "last_review                        object\n",
      "reviews_per_month                 float64\n",
      "calculated_host_listings_count    float64\n",
      "availability_365                  float64\n",
      "number_of_reviews_ltm             float64\n",
      "license;                           object\n",
      "estimated_bookings                float64\n",
      "host_info                          object\n",
      "dtype: object\n"
     ]
    }
   ],
   "source": [
    "print(df1.dtypes)"
   ]
  },
  {
   "cell_type": "code",
   "execution_count": 322,
   "metadata": {},
   "outputs": [
    {
     "name": "stdout",
     "output_type": "stream",
     "text": [
      "id unique values:\n",
      "['1419' '8077' '26654' '27423' '30931' '40456' '40701' '42892' '43964'\n",
      " '44452']\n",
      "\n",
      "name unique values:\n",
      "['Home in Toronto · ★5.0 · 5 bedrooms · 7 beds · 3 baths'\n",
      " 'Rental unit in Toronto · ★4.84 · 1 bedroom · 1 bed · 1.5 baths'\n",
      " 'Condo in Toronto · ★4.78 · 1 bedroom · 2 beds · 1 bath'\n",
      " 'Rental unit in Toronto · ★4.92 · Studio · 1 bed · 1 bath'\n",
      " 'Rental unit in Toronto · 1 bedroom · 2 beds · 1.5 baths'\n",
      " 'Home in Toronto · ★4.64 · 2 bedrooms · 2 beds · 1 bath'\n",
      " 'Rental unit in Toronto · ★4.60 · 1 bedroom · 1 bed · 1 bath'\n",
      " 'Condo in Toronto · 3 bedrooms · 3 beds · 2 baths'\n",
      " 'Home in Toronto · ★4.95 · 2 bedrooms · 4 beds · 1 bath'\n",
      " 'Rental unit in Toronto · ★4.17 · 1 bedroom · 1 bed · 1 bath']\n",
      "\n",
      "host_name unique values:\n",
      "['Alexandra' 'Kathie & Larry' 'Adela' 'Brent' 'Denis' 'John'\n",
      " 'Downtown Suite Living' 'Mitra' 'Urbano' 'Kintoo']\n",
      "\n",
      "neighbourhood unique values:\n",
      "['Little Portugal' 'Waterfront Communities-The Island' 'South Riverdale'\n",
      " 'South Parkdale' 'The Beaches' 'Wexford/Maryvale' 'Rosedale-Moore Park'\n",
      " 'Bay Street Corridor' 'Church-Yonge Corridor' 'Niagara']\n",
      "\n",
      "room_type unique values:\n",
      "['Entire home/apt' 'Private room' 'Shared room' nan 'Hotel room']\n",
      "\n",
      "last_review unique values:\n",
      "['2017-12-04' '2013-08-27' '2021-01-31' '2022-12-25' '2010-08-11'\n",
      " '2023-06-19' '2023-03-05' nan '2023-07-02' '2023-04-30']\n",
      "\n",
      "license; unique values:\n",
      "[';' 'STR-2012-FMQPHC;' 'STR-2009-FXRRPD;' 'STR-2010-FPPDPC;'\n",
      " 'STR-2012-HLWPHK;' 'STR-2010-GPKRPG;' 'STR-2104-FLPKVB;'\n",
      " 'STR-2012-GZXRVH;' 'STR-2009-GXRRPH;' 'STR-2203-GGLHHF;']\n",
      "\n",
      "host_info unique values:\n",
      "['1565.0 - Alexandra' '22795.0 - Kathie & Larry' '113345.0 - Adela'\n",
      " '118124.0 - Brent' '174063.0 - Denis' '175687.0 - John'\n",
      " '187320.0 - Downtown Suite Living' '192364.0 - Mitra' '195095.0 - Urbano'\n",
      " '237587.0 - John']\n",
      "\n"
     ]
    }
   ],
   "source": [
    "for col in df1.select_dtypes(include=['object']):\n",
    "    print(f'{col} unique values:')\n",
    "    print(df1[col].unique()[:10])  # Display the first 10 unique values\n",
    "    print()"
   ]
  },
  {
   "cell_type": "code",
   "execution_count": 323,
   "metadata": {},
   "outputs": [],
   "source": [
    "df1['last_review'] = pd.to_datetime(df1['last_review'])"
   ]
  },
  {
   "cell_type": "code",
   "execution_count": 325,
   "metadata": {},
   "outputs": [],
   "source": [
    "from sklearn.preprocessing import LabelEncoder\n",
    "\n",
    "label_encoders = {}\n",
    "categorical_columns = ['name', 'host_name', 'neighbourhood', 'room_type', 'license;']\n",
    "\n",
    "for column in categorical_columns:\n",
    "    le = LabelEncoder()\n",
    "    df1[column] = le.fit_transform(df1[column].astype(str))  # Convert to string before encoding\n",
    "    label_encoders[column] = le"
   ]
  },
  {
   "cell_type": "code",
   "execution_count": 326,
   "metadata": {},
   "outputs": [],
   "source": [
    "df1 = pd.get_dummies(df1, columns=categorical_columns)"
   ]
  },
  {
   "cell_type": "markdown",
   "metadata": {},
   "source": [
    "# Imputation"
   ]
  },
  {
   "cell_type": "code",
   "execution_count": 235,
   "metadata": {},
   "outputs": [],
   "source": [
    "#mean_value = df['column_name'].mean()\n",
    "#df['column_name'].fillna(mean_value, inplace=True)"
   ]
  },
  {
   "cell_type": "code",
   "execution_count": 328,
   "metadata": {},
   "outputs": [],
   "source": [
    "df1.fillna(value=0, inplace=True)"
   ]
  },
  {
   "cell_type": "code",
   "execution_count": null,
   "metadata": {},
   "outputs": [],
   "source": []
  },
  {
   "cell_type": "code",
   "execution_count": 287,
   "metadata": {},
   "outputs": [
    {
     "data": {
      "text/plain": [
       "0"
      ]
     },
     "execution_count": 287,
     "metadata": {},
     "output_type": "execute_result"
    }
   ],
   "source": [
    "np.sum(np.sum(cat_df.isnull())/cat_df.shape[0] == 0)"
   ]
  },
  {
   "cell_type": "code",
   "execution_count": 288,
   "metadata": {},
   "outputs": [
    {
     "data": {
      "text/plain": [
       "0"
      ]
     },
     "execution_count": 288,
     "metadata": {},
     "output_type": "execute_result"
    }
   ],
   "source": [
    "np.sum(np.sum(cat_df.isnull())/cat_df.shape[0] > .5)"
   ]
  },
  {
   "cell_type": "code",
   "execution_count": 289,
   "metadata": {},
   "outputs": [
    {
     "data": {
      "text/plain": [
       "0"
      ]
     },
     "execution_count": 289,
     "metadata": {},
     "output_type": "execute_result"
    }
   ],
   "source": [
    "np.sum(np.sum(cat_df.isnull())/cat_df.shape[0] > .75)"
   ]
  },
  {
   "cell_type": "code",
   "execution_count": null,
   "metadata": {},
   "outputs": [],
   "source": []
  },
  {
   "cell_type": "markdown",
   "metadata": {},
   "source": [
    "# Modeling "
   ]
  },
  {
   "cell_type": "code",
   "execution_count": null,
   "metadata": {},
   "outputs": [],
   "source": []
  },
  {
   "cell_type": "code",
   "execution_count": 334,
   "metadata": {},
   "outputs": [],
   "source": [
    "# Define features X\n",
    "#X= df1.drop(['name', 'host_name', 'last_review', 'license;'], axis=1)\n",
    "\n",
    "# Define target y\n",
    "#y = df1['price']"
   ]
  },
  {
   "cell_type": "code",
   "execution_count": 331,
   "metadata": {},
   "outputs": [],
   "source": [
    "X_train, X_test, y_train, y_test = train_test_split(X, y, test_size = 0.30, random_state=42)"
   ]
  },
  {
   "cell_type": "code",
   "execution_count": 335,
   "metadata": {},
   "outputs": [],
   "source": [
    "\n",
    "\n",
    "#lm_model = LinearRegression(normalize=True) # Instantiate\n",
    "#lm_model.fit(X_train, y_train) #Fit\n",
    "        \n",
    "#Predict and score the model\n",
    "#y_test_preds = lm_model.predict(X_test) \n",
    "#\"The r-squared score for the model using only quantitative variables was {} on {} values.\".format(r2_score(y_test, y_test_preds), len(y_test))"
   ]
  },
  {
   "cell_type": "code",
   "execution_count": null,
   "metadata": {},
   "outputs": [],
   "source": []
  },
  {
   "cell_type": "code",
   "execution_count": null,
   "metadata": {},
   "outputs": [],
   "source": []
  },
  {
   "cell_type": "code",
   "execution_count": null,
   "metadata": {},
   "outputs": [],
   "source": []
  }
 ],
 "metadata": {
  "kernelspec": {
   "display_name": "Python 3",
   "language": "python",
   "name": "python3"
  },
  "language_info": {
   "codemirror_mode": {
    "name": "ipython",
    "version": 3
   },
   "file_extension": ".py",
   "mimetype": "text/x-python",
   "name": "python",
   "nbconvert_exporter": "python",
   "pygments_lexer": "ipython3",
   "version": "3.8.5"
  }
 },
 "nbformat": 4,
 "nbformat_minor": 4
}
